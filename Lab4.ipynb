{
  "nbformat": 4,
  "nbformat_minor": 0,
  "metadata": {
    "colab": {
      "provenance": []
    },
    "kernelspec": {
      "name": "python3",
      "display_name": "Python 3"
    },
    "language_info": {
      "name": "python"
    }
  },
  "cells": [
    {
      "cell_type": "code",
      "execution_count": 1,
      "metadata": {
        "id": "ajsW-5Em6NI6"
      },
      "outputs": [],
      "source": [
        "import numpy as np\n",
        "from torch import nn\n",
        "import torch"
      ]
    },
    {
      "cell_type": "markdown",
      "source": [
        "###Реализация функции upsampling"
      ],
      "metadata": {
        "id": "Yr0Suv4Z6P96"
      }
    },
    {
      "cell_type": "code",
      "source": [
        "def upsampling(input_tensor, size):\n",
        "\n",
        "    #нахождение размеров изображения\n",
        "    N, C, H, W = input_tensor.shape\n",
        "    new_H, new_W = size\n",
        "\n",
        "    #расчитываем коэффиценты\n",
        "    scale_factor_H = new_H / H\n",
        "    scale_factor_W = new_W / W\n",
        "\n",
        "    #создаём результирующий вектор\n",
        "    output_np = np.empty((N, C, new_H, new_W))\n",
        "\n",
        "    #билинейная повышающая дискретизация для каждого канала и выборки\n",
        "    for n in range(N):\n",
        "        for c in range(C):\n",
        "            for i in range(new_H):\n",
        "                for j in range(new_W):\n",
        "                    #находим позицию на выходном тензоре\n",
        "                    x = (i + 0.5) / scale_factor_H - 0.5\n",
        "                    y = (j + 0.5) / scale_factor_W - 0.5\n",
        "                    x0 = int(np.floor(x))\n",
        "                    x1 = min(x0 + 1, H - 1)\n",
        "                    y0 = int(np.floor(y))\n",
        "                    y1 = min(y0 + 1, W - 1)\n",
        "                    #выполнение билинейной интерполяции\n",
        "                    output_np[n, c, i, j] = (input_tensor[n, c, x0, y0] * (x1 - x) * (y1 - y) +\n",
        "                                             input_tensor[n, c, x0, y1] * (x1 - x) * (y - y0) +\n",
        "                                             input_tensor[n, c, x1, y0] * (x - x0) * (y1 - y) +\n",
        "                                             input_tensor[n, c, x1, y1] * (x - x0) * (y - y0))\n",
        "\n",
        "    return torch.from_numpy(output_np)"
      ],
      "metadata": {
        "id": "ZIWxaB2T7GWf"
      },
      "execution_count": 2,
      "outputs": []
    },
    {
      "cell_type": "markdown",
      "source": [
        "###Тест 1"
      ],
      "metadata": {
        "id": "z_BxKEDo8FH-"
      }
    },
    {
      "cell_type": "code",
      "source": [
        "input_data = torch.rand(1, 3, 4, 4)\n",
        "output_size = (1, 1)\n",
        "\n",
        "#результат использования нашей функции upsampling\n",
        "our_result1 = upsampling(input_data, output_size)\n",
        "print(\"Результат использования нашей функции upsampling в тесте 1:\")\n",
        "print(our_result1)\n",
        "torch_result1 = torch.nn.functional.upsample(input_data, output_size, mode = 'bilinear')\n",
        "print(\"\\nРезультат использования функции upsample библиотеки PyTorch в тесте 1:\")\n",
        "print(torch_result1)"
      ],
      "metadata": {
        "colab": {
          "base_uri": "https://localhost:8080/"
        },
        "id": "EYTwNG858GMu",
        "outputId": "f9358bea-e0cf-40ad-e370-997ecfd15134"
      },
      "execution_count": 3,
      "outputs": [
        {
          "output_type": "stream",
          "name": "stdout",
          "text": [
            "Результат использования нашей функции upsampling в тесте 1:\n",
            "tensor([[[[0.5798]],\n",
            "\n",
            "         [[0.4095]],\n",
            "\n",
            "         [[0.2138]]]], dtype=torch.float64)\n",
            "\n",
            "Результат использования функции upsample библиотеки PyTorch в тесте 1:\n",
            "tensor([[[[0.5798]],\n",
            "\n",
            "         [[0.4095]],\n",
            "\n",
            "         [[0.2138]]]])\n"
          ]
        },
        {
          "output_type": "stream",
          "name": "stderr",
          "text": [
            "/usr/local/lib/python3.10/dist-packages/torch/nn/functional.py:3769: UserWarning: nn.functional.upsample is deprecated. Use nn.functional.interpolate instead.\n",
            "  warnings.warn(\"nn.functional.upsample is deprecated. Use nn.functional.interpolate instead.\")\n"
          ]
        }
      ]
    },
    {
      "cell_type": "markdown",
      "source": [
        "###Тест 2"
      ],
      "metadata": {
        "id": "4QyvL7TOPfyv"
      }
    },
    {
      "cell_type": "code",
      "source": [
        "input_data = torch.rand(1, 3, 4, 4)\n",
        "output_size = (1, 1)\n",
        "\n",
        "#результат использования нашей функции upsampling\n",
        "our_result2 = upsampling(input_data, output_size)\n",
        "print(\"Результат использования нашей функции upsampling в тесте 2:\")\n",
        "print(our_result2)\n",
        "torch_result2 = torch.nn.functional.upsample(input_data, output_size, mode = 'bilinear')\n",
        "print(\"\\nРезультат использования функции upsample библиотеки PyTorch в тесте 2:\")\n",
        "print(torch_result2)"
      ],
      "metadata": {
        "colab": {
          "base_uri": "https://localhost:8080/"
        },
        "id": "v40ehTCvPgpd",
        "outputId": "6abb3d58-a322-428c-a96e-f39ce9c101f7"
      },
      "execution_count": null,
      "outputs": [
        {
          "output_type": "stream",
          "name": "stdout",
          "text": [
            "Результат использования нашей функции upsampling в тесте 2:\n",
            "tensor([[[[0.3617]],\n",
            "\n",
            "         [[0.5210]],\n",
            "\n",
            "         [[0.6796]]]], dtype=torch.float64)\n",
            "\n",
            "Результат использования функции upsample библиотеки PyTorch в тесте 2:\n",
            "tensor([[[[0.3617]],\n",
            "\n",
            "         [[0.5210]],\n",
            "\n",
            "         [[0.6796]]]])\n"
          ]
        },
        {
          "output_type": "stream",
          "name": "stderr",
          "text": [
            "/usr/local/lib/python3.10/dist-packages/torch/nn/functional.py:3769: UserWarning: nn.functional.upsample is deprecated. Use nn.functional.interpolate instead.\n",
            "  warnings.warn(\"nn.functional.upsample is deprecated. Use nn.functional.interpolate instead.\")\n"
          ]
        }
      ]
    },
    {
      "cell_type": "markdown",
      "source": [
        "###Тест 3"
      ],
      "metadata": {
        "id": "-3jhbYfNPr2t"
      }
    },
    {
      "cell_type": "code",
      "source": [
        "input_data = torch.rand(1, 3, 4, 4)\n",
        "output_size = (1, 1)\n",
        "\n",
        "#результат использования нашей функции upsampling\n",
        "our_result3 = upsampling(input_data, output_size)\n",
        "print(\"Результат использования нашей функции upsampling в тесте 3:\")\n",
        "print(our_result3)\n",
        "torch_result3 = torch.nn.functional.upsample(input_data, output_size, mode = 'bilinear')\n",
        "print(\"\\nРезультат использования функции upsample библиотеки PyTorch в тесте 3:\")\n",
        "print(torch_result3)"
      ],
      "metadata": {
        "colab": {
          "base_uri": "https://localhost:8080/"
        },
        "id": "9XfO-WFjPtW1",
        "outputId": "4dd06090-3629-43e3-9edb-85281c99444d"
      },
      "execution_count": null,
      "outputs": [
        {
          "output_type": "stream",
          "name": "stdout",
          "text": [
            "Результат использования нашей функции upsampling в тесте 3:\n",
            "tensor([[[[0.5075]],\n",
            "\n",
            "         [[0.7285]],\n",
            "\n",
            "         [[0.6242]]]], dtype=torch.float64)\n",
            "\n",
            "Результат использования функции upsample библиотеки PyTorch в тесте 3:\n",
            "tensor([[[[0.5075]],\n",
            "\n",
            "         [[0.7285]],\n",
            "\n",
            "         [[0.6242]]]])\n"
          ]
        },
        {
          "output_type": "stream",
          "name": "stderr",
          "text": [
            "/usr/local/lib/python3.10/dist-packages/torch/nn/functional.py:3769: UserWarning: nn.functional.upsample is deprecated. Use nn.functional.interpolate instead.\n",
            "  warnings.warn(\"nn.functional.upsample is deprecated. Use nn.functional.interpolate instead.\")\n"
          ]
        }
      ]
    }
  ]
}